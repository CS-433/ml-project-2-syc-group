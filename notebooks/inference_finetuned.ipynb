{
 "cells": [
  {
   "cell_type": "code",
   "execution_count": 51,
   "metadata": {},
   "outputs": [],
   "source": [
    "import pandas as pd\n",
    "import numpy as np \n",
    "import torch\n",
    "from torch.utils.data import Dataset\n",
    "from PIL import Image\n",
    "from transformers import TrOCRProcessor\n",
    "from torch.utils.data import DataLoader\n",
    "from transformers import VisionEncoderDecoderModel\n",
    "import torch\n",
    "from evaluate import load\n",
    "import logging\n",
    "import matplotlib.pyplot as plt \n",
    "# Set logging level for transformers to ERROR (or CRITICAL to suppress more)\n",
    "logging.getLogger(\"transformers\").setLevel(logging.ERROR)\n",
    "from src.inference import ImageToWordModel \n",
    "import cv2 \n",
    "from mltu.utils.text_utils import  get_cer, get_wer \n",
    "from tqdm.notebook import tqdm"
   ]
  },
  {
   "cell_type": "code",
   "execution_count": 2,
   "metadata": {},
   "outputs": [
    {
     "name": "stdout",
     "output_type": "stream",
     "text": [
      "Number of parameters: 61596672\n"
     ]
    }
   ],
   "source": [
    "model = VisionEncoderDecoderModel.from_pretrained(f\"microsoft/trocr-small-handwritten\")\n",
    "num_params = sum(p.numel() for p in model.parameters())\n",
    "print(f\"Number of parameters: {num_params}\")"
   ]
  },
  {
   "cell_type": "markdown",
   "metadata": {},
   "source": [
    "### Comparing models for differents epochs\n",
    "This code uses models saved in \"results/pretrained\" by the finetuning notebook. As there are 15 of them and they are big, we can't it directly upload them on git. So run \"fine_tune_trocr.ipynb\" to generate them. \n",
    "\n",
    "However, we provide the best performing model in the following link : https://drive.google.com/drive/folders/12I3GhCDFewbT3f5TpPIMebGkLSHleFem?usp=sharing. \n",
    "\n",
    "\n",
    "If you download it and put it in the \"results/pretrained\" folder, you can run the next section of the code to verify the performence of the majority voting algorithm.\n"
   ]
  },
  {
   "cell_type": "code",
   "execution_count": 3,
   "metadata": {},
   "outputs": [],
   "source": [
    "# Custom dataset class for TrOCR (Transformer-based Optical Character Recognition) \n",
    "class TrOCRDataset(Dataset):\n",
    "\n",
    "    # Constructor to initialize the dataset with root directory, dataframe, processor, and optional max target length\n",
    "    def __init__(self, root_dir, df, processor, max_target_length=128):\n",
    "        self.root_dir = root_dir\n",
    "        self.df = df\n",
    "        self.processor = processor\n",
    "        self.max_target_length = max_target_length\n",
    "\n",
    "    # Return the total number of samples in the dataset (i.e., the number of rows in the DataFrame)\n",
    "    def __len__(self):\n",
    "        return len(self.df)\n",
    "\n",
    "    # Retrieve an individual sample (image and its corresponding text) from the dataset\n",
    "    def __getitem__(self, idx):\n",
    "        # Get file name + text \n",
    "        file_name = self.df['file_name'][idx]\n",
    "        text = self.df['text'][idx]\n",
    "        # Some file names end with jp instead of jpg, the two lines below fix this\n",
    "        if file_name.endswith('jp'):\n",
    "          file_name = file_name + 'g'\n",
    "        # Prepare image (i.e. resize + normalize)\n",
    "        image = Image.open(self.root_dir + file_name).convert(\"RGB\")\n",
    "        pixel_values = self.processor(image, return_tensors=\"pt\").pixel_values\n",
    "        # Add labels (input_ids) by encoding the text\n",
    "        labels = self.processor.tokenizer(text, \n",
    "                                          padding=\"max_length\", \n",
    "                                          max_length=self.max_target_length).input_ids\n",
    "        # Important: make sure that PAD tokens are ignored by the loss function\n",
    "        labels = [label if label != self.processor.tokenizer.pad_token_id else -100 for label in labels]\n",
    "\n",
    "        encoding = {\"pixel_values\": pixel_values.squeeze(), \"labels\": torch.tensor(labels)}\n",
    "        return encoding"
   ]
  },
  {
   "cell_type": "code",
   "execution_count": 4,
   "metadata": {},
   "outputs": [],
   "source": [
    "# Function to evaluate the model's performance on a given dataset using CER and WER metrics\n",
    "def evaluate(model_path,processor_path, dataset_path):\n",
    "    \n",
    "    df = pd.DataFrame(np.load(dataset_path)) \n",
    "    df.rename(columns={0: \"file_name\", 1: \"text\"}, inplace=True)\n",
    "    processor = TrOCRProcessor.from_pretrained(processor_path, quiet=True)\n",
    "    test_dataset = TrOCRDataset(root_dir='',df=df,processor=processor)\n",
    "\n",
    "    test_dataloader = DataLoader(test_dataset, batch_size=8)\n",
    "    \n",
    "    device = torch.device(\"mps\" if torch.backends.mps.is_available() else \"cpu\")\n",
    "    model = VisionEncoderDecoderModel.from_pretrained(model_path)\n",
    "    model = model.to(device)\n",
    "    \n",
    "    cer = load(\"cer\")\n",
    "    wer = load(\"wer\") \n",
    "    print(\"Running evaluation...\")\n",
    "\n",
    "    for batch in test_dataloader:\n",
    "        # Predict using generate\n",
    "        pixel_values = batch[\"pixel_values\"].to(device)\n",
    "        outputs = model.generate(pixel_values)\n",
    "\n",
    "        # Decode\n",
    "        pred_str = processor.batch_decode(outputs, skip_special_tokens=True)\n",
    "        labels = batch[\"labels\"]\n",
    "        labels[labels == -100] = processor.tokenizer.pad_token_id\n",
    "        label_str = processor.batch_decode(labels, skip_special_tokens=True)\n",
    "        \n",
    "        # Add batch to metric\n",
    "        cer.add_batch(predictions=pred_str, references=label_str)\n",
    "        wer.add_batch(predictions=pred_str, references=label_str) \n",
    "    \n",
    "    return {\"cer\": cer.compute(), \"wer\": wer.compute()} "
   ]
  },
  {
   "cell_type": "code",
   "execution_count": 6,
   "metadata": {},
   "outputs": [
    {
     "name": "stdout",
     "output_type": "stream",
     "text": [
      "Running evaluation...\n",
      "Running evaluation...\n",
      "Epoch 1 - Val CER: 0.3571221351900203, Val WER: 0.5517241379310345\n",
      "Epoch 1 - Test CER: 0.7466266866566716, Test WER: 0.8785425101214575\n",
      "Running evaluation...\n",
      "Running evaluation...\n",
      "Epoch 2 - Val CER: 0.24949231215549753, Val WER: 0.4288240495137047\n",
      "Epoch 2 - Test CER: 0.4782608695652174, Test WER: 0.6558704453441295\n",
      "Running evaluation...\n",
      "Running evaluation...\n",
      "Epoch 3 - Val CER: 0.19727299100667248, Val WER: 0.38461538461538464\n",
      "Epoch 3 - Test CER: 0.39730134932533734, Test WER: 0.6032388663967612\n",
      "Running evaluation...\n",
      "Running evaluation...\n",
      "Epoch 4 - Val CER: 0.1560777487670438, Val WER: 0.3147656940760389\n",
      "Epoch 4 - Test CER: 0.32533733133433285, Test WER: 0.5141700404858299\n",
      "Running evaluation...\n",
      "Running evaluation...\n",
      "Epoch 5 - Val CER: 0.12097476066144473, Val WER: 0.2519893899204244\n",
      "Epoch 5 - Test CER: 0.20839580209895053, Test WER: 0.3967611336032389\n",
      "Running evaluation...\n",
      "Running evaluation...\n",
      "Epoch 6 - Val CER: 0.14012184508268058, Val WER: 0.29973474801061006\n",
      "Epoch 6 - Test CER: 0.2563718140929535, Test WER: 0.4251012145748988\n",
      "Running evaluation...\n",
      "Running evaluation...\n",
      "Epoch 7 - Val CER: 0.12358572671888599, Val WER: 0.268788682581786\n",
      "Epoch 7 - Test CER: 0.22788605697151423, Test WER: 0.4331983805668016\n",
      "Running evaluation...\n",
      "Running evaluation...\n",
      "Epoch 8 - Val CER: 0.1174934725848564, Val WER: 0.2572944297082228\n",
      "Epoch 8 - Test CER: 0.19490254872563717, Test WER: 0.3319838056680162\n",
      "Running evaluation...\n",
      "Running evaluation...\n",
      "Epoch 9 - Val CER: 0.11633304322599362, Val WER: 0.2519893899204244\n",
      "Epoch 9 - Test CER: 0.24887556221889057, Test WER: 0.41700404858299595\n",
      "Running evaluation...\n",
      "Running evaluation...\n",
      "Epoch 10 - Val CER: 0.1061792863359443, Val WER: 0.2396109637488948\n",
      "Epoch 10 - Test CER: 0.17391304347826086, Test WER: 0.32388663967611336\n",
      "Running evaluation...\n",
      "Running evaluation...\n",
      "Epoch 11 - Val CER: 0.10443864229765012, Val WER: 0.21927497789566755\n",
      "Epoch 11 - Test CER: 0.18140929535232383, Test WER: 0.3481781376518219\n",
      "Running evaluation...\n",
      "Running evaluation...\n",
      "Epoch 12 - Val CER: 0.11807368726428778, Val WER: 0.2634836427939876\n",
      "Epoch 12 - Test CER: 0.22488755622188905, Test WER: 0.42105263157894735\n",
      "Running evaluation...\n",
      "Running evaluation...\n",
      "Epoch 13 - Val CER: 0.10559907165651292, Val WER: 0.23430592396109637\n",
      "Epoch 13 - Test CER: 0.22638680659670166, Test WER: 0.4089068825910931\n",
      "Running evaluation...\n",
      "Running evaluation...\n",
      "Epoch 14 - Val CER: 0.11024078909196403, Val WER: 0.2413793103448276\n",
      "Epoch 14 - Test CER: 0.20239880059970014, Test WER: 0.3562753036437247\n",
      "Running evaluation...\n",
      "Running evaluation...\n",
      "Epoch 15 - Val CER: 0.11662315056570931, Val WER: 0.2537577365163572\n",
      "Epoch 15 - Test CER: 0.17541229385307347, Test WER: 0.3441295546558704\n"
     ]
    }
   ],
   "source": [
    "max_epochs = 15\n",
    "\n",
    "test_metrics_list = []\n",
    "val_metrics_list = []\n",
    "\n",
    "for i in range(1,max_epochs+1):\n",
    "    # Evaluate the model on the test set for the current epoch\n",
    "    test_metrics = evaluate(f\"results/pretrained/small_epochs={i}_fulldata\", \n",
    "                        \"microsoft/trocr-small-handwritten\", \n",
    "                        \"data/testset.npy\")\n",
    "    \n",
    "    # Evaluate the model on the validation set for the current epoch\n",
    "    val_metrics = evaluate(f\"results/pretrained/small_epochs={i}_fulldata\",\n",
    "                          \"microsoft/trocr-small-handwritten\",\n",
    "                          \"data/valset.npy\")\n",
    "    \n",
    "    test_metrics_list.append(test_metrics)\n",
    "    val_metrics_list.append(val_metrics)\n",
    "\n",
    "    print(f\"Epoch {i} - Val CER: {val_metrics['cer']}, Val WER: {val_metrics['wer']}\") \n",
    "    print(f\"Epoch {i} - Test CER: {test_metrics['cer']}, Test WER: {test_metrics['wer']}\")"
   ]
  },
  {
   "cell_type": "code",
   "execution_count": 11,
   "metadata": {},
   "outputs": [
    {
     "data": {
      "image/png": "[encoded data removed]",
      "text/plain": [
       "<Figure size 640x480 with 1 Axes>"
      ]
     },
     "metadata": {},
     "output_type": "display_data"
    }
   ],
   "source": [
    "test_cers = [\n",
    "    test_metrics[\"cer\"] for test_metrics in test_metrics_list\n",
    "]\n",
    "\n",
    "val_cers = [\n",
    "    val_metrics[\"cer\"] for val_metrics in val_metrics_list\n",
    "]\n",
    "\n",
    "plt.plot(range(1,max_epochs+1), test_cers, label=\"Test CER\")\n",
    "plt.plot(range(1,max_epochs+1), val_cers, label=\"Val CER\")\n",
    "# Name the x-axis\n",
    "plt.xlabel(\"Epochs\")\n",
    "# Name the y-axis\n",
    "plt.ylabel(\"CER\")\n",
    "plt.title(\"CER vs Epochs in fine-tuned model\")\n",
    "plt.legend()\n",
    "plt.show()"
   ]
  },
  {
   "cell_type": "code",
   "execution_count": 13,
   "metadata": {},
   "outputs": [
    {
     "data": {
      "text/plain": [
       "<matplotlib.legend.Legend at 0x47cc72db0>"
      ]
     },
     "execution_count": 13,
     "metadata": {},
     "output_type": "execute_result"
    },
    {
     "data": {
      "image/png": "[encoded data removed]",
      "text/plain": [
       "<Figure size 640x480 with 1 Axes>"
      ]
     },
     "metadata": {},
     "output_type": "display_data"
    }
   ],
   "source": [
    "test_wers = [\n",
    "    test_metrics[\"wer\"] for test_metrics in test_metrics_list\n",
    "]\n",
    "\n",
    "val_wers = [\n",
    "    val_metrics[\"wer\"] for val_metrics in val_metrics_list\n",
    "]\n",
    "\n",
    "plt.plot(range(1,max_epochs+1), test_wers, label=\"Test WER\")\n",
    "plt.plot(range(1,max_epochs+1), val_wers, label=\"Val WER\")\n",
    "# Name the x-axis\n",
    "plt.xlabel(\"Epochs\")\n",
    "# Name the y-axis\n",
    "plt.ylabel(\"WER\")\n",
    "plt.title(\"WER vs Epochs in fine-tuned model\")\n",
    "plt.legend()"
   ]
  },
  {
   "cell_type": "code",
   "execution_count": 16,
   "metadata": {},
   "outputs": [
    {
     "name": "stdout",
     "output_type": "stream",
     "text": [
      "The best model(by validation cer) is at epoch:  11\n",
      "--------- TrOCR results ---------\n",
      "Val CER:  0.10443864229765012\n",
      "Val WER:  0.21927497789566755\n",
      "Test CER:  0.18140929535232383\n",
      "Test WER:  0.3481781376518219\n"
     ]
    }
   ],
   "source": [
    "# Find index for which cer loss is minimum \n",
    "val_cer_list = [val_metrics['cer'] for val_metrics in val_metrics_list]\n",
    "min_cer_index = val_cer_list.index(min(val_cer_list))\n",
    "\n",
    "print(\"The best model(by validation cer) is at epoch: \", min_cer_index+1) \n",
    "print(\"--------- TrOCR results ---------\")\n",
    "print(\"Val CER: \", val_cers[min_cer_index])\n",
    "print(\"Val WER: \", val_wers[min_cer_index])\n",
    "print(\"Test CER: \", test_cers[min_cer_index])\n",
    "print(\"Test WER: \", test_wers[min_cer_index])"
   ]
  },
  {
   "cell_type": "markdown",
   "metadata": {},
   "source": [
    "The best performing model is obtained after 11 epochs. \n",
    "\n",
    "### Majority voting algorithm"
   ]
  },
  {
   "cell_type": "code",
   "execution_count": 17,
   "metadata": {},
   "outputs": [],
   "source": [
    "# Load the best model \n",
    "best_model = VisionEncoderDecoderModel.from_pretrained(f\"results/pretrained/small_epochs={min_cer_index+1}_fulldata\")\n",
    "best_model = best_model.to(\"mps\") "
   ]
  },
  {
   "cell_type": "code",
   "execution_count": 70,
   "metadata": {},
   "outputs": [],
   "source": [
    "# Function that performs majority voting to combine predictions from three models\n",
    "def majority_vote(htrnet, cnn_bilstm_mltu, trocr, trocr_process, image):\n",
    "    \"\"\"\n",
    "    In case of tie, cnn_bilstm_mltu is given preference. \n",
    "    \"\"\"\n",
    "\n",
    "    htrnet_pred = htrnet.predict(image) \n",
    "    cnn_bilstm_mltu_pred = cnn_bilstm_mltu.predict(image)\n",
    "    trocr_pred = trocr.generate(\n",
    "        trocr_process(image, return_tensors=\"pt\").pixel_values\n",
    "    )\n",
    "\n",
    "    trocr_pred = trocr_process.batch_decode(trocr_pred, skip_special_tokens=True)\n",
    "    trocr_pred = trocr_pred[0]\n",
    "\n",
    "    freq_dict = {}\n",
    "    for pred in [htrnet_pred, cnn_bilstm_mltu_pred, trocr_pred]:\n",
    "        if pred in freq_dict:\n",
    "            freq_dict[pred] += 1\n",
    "        else:\n",
    "            freq_dict[pred] = 1\n",
    "\n",
    "    max_freq = max(freq_dict.values())\n",
    "    max_freq_preds = [k for k, v in freq_dict.items() if v == max_freq]\n",
    "\n",
    "    if len(max_freq_preds) == 1:\n",
    "        return max_freq_preds[0]\n",
    "    else:\n",
    "        # In case of a tie, return the cnn_bilstm_mltu prediction (given preference)\n",
    "        return cnn_bilstm_mltu_pred\n",
    "    \n",
    "# Function to evaluate models using majority voting on a dataset\n",
    "def evaludate_with_majority_vote(datapath):\n",
    "    \n",
    "    htr_net = ImageToWordModel(\"results/htr_full_data/model.onnx\") \n",
    "    cnn_bilstm_mltu = ImageToWordModel(\"results/cnn_bilstm_mltu_all_data/model.onnx\") \n",
    "    processor = TrOCRProcessor.from_pretrained(\"microsoft/trocr-small-handwritten\", quiet=True)\n",
    "        \n",
    "    if \"csv\" in datapath:\n",
    "        df = pd.read_csv(datapath).values.tolist()\n",
    "    elif \"npy\" in datapath:  \n",
    "        df = np.load(datapath).tolist() \n",
    "    else : \n",
    "        raise ValueError(\"Invalid data path. Please provide a csv or npy file\")\n",
    "    \n",
    "    cer = [] \n",
    "    wer = [] \n",
    "\n",
    "    # Iterate over each image-path and label pair in the dataset\n",
    "    for image_path, label in tqdm(df):\n",
    "        image = cv2.imread(image_path.replace(\"\\\\\", \"/\"))\n",
    "        \n",
    "        prediction_text = majority_vote(\n",
    "            htr_net,\n",
    "            cnn_bilstm_mltu,\n",
    "            best_model.to(\"cpu\"), \n",
    "            processor, \n",
    "            image\n",
    "        )\n",
    "            \n",
    "        cer.append(get_cer(prediction_text, label))\n",
    "        wer.append(get_wer(prediction_text, label)) \n",
    "    \n",
    "    return np.average(cer), np.average(wer) "
   ]
  },
  {
   "cell_type": "code",
   "execution_count": 71,
   "metadata": {},
   "outputs": [
    {
     "data": {
      "application/vnd.jupyter.widget-view+json": {
       "model_id": "51a3bb32fd7a465890ba0f6144a028b8",
       "version_major": 2,
       "version_minor": 0
      },
      "text/plain": [
       "  0%|          | 0/247 [00:00<?, ?it/s]"
      ]
     },
     "metadata": {},
     "output_type": "display_data"
    },
    {
     "name": "stdout",
     "output_type": "stream",
     "text": [
      "Test CER with majority vote:  0.17186234817813764\n",
      "Test WER with majority vote:  0.291497975708502\n"
     ]
    },
    {
     "data": {
      "application/vnd.jupyter.widget-view+json": {
       "model_id": "928fcd7b63fe4f97a81230776f64ca53",
       "version_major": 2,
       "version_minor": 0
      },
      "text/plain": [
       "  0%|          | 0/1131 [00:00<?, ?it/s]"
      ]
     },
     "metadata": {},
     "output_type": "display_data"
    },
    {
     "name": "stdout",
     "output_type": "stream",
     "text": [
      "Val CER with majority vote:  0.05343353964043619\n",
      "Val WER with majority vote:  0.11229000884173299\n"
     ]
    }
   ],
   "source": [
    "test_cer_maj,test_wer_maj= evaludate_with_majority_vote(\"data/testset.npy\")\n",
    "\n",
    "print(\"Test CER with majority vote: \", test_cer_maj)\n",
    "print(\"Test WER with majority vote: \", test_wer_maj)\n",
    "\n",
    "val_cer_maj, val_wer_maj = evaludate_with_majority_vote(\"data/valset.npy\") \n",
    "\n",
    "print(\"Val CER with majority vote: \", val_cer_maj)\n",
    "print(\"Val WER with majority vote: \", val_wer_maj)"
   ]
  }
 ],
 "metadata": {
  "kernelspec": {
   "display_name": "cs433-sofia",
   "language": "python",
   "name": "python3"
  },
  "language_info": {
   "codemirror_mode": {
    "name": "ipython",
    "version": 3
   },
   "file_extension": ".py",
   "mimetype": "text/x-python",
   "name": "python",
   "nbconvert_exporter": "python",
   "pygments_lexer": "ipython3",
   "version": "3.12.7"
  }
 },
 "nbformat": 4,
 "nbformat_minor": 2
}
