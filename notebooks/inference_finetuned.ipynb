{
 "cells": [
  {
   "cell_type": "code",
   "execution_count": 1,
   "metadata": {},
   "outputs": [],
   "source": [
    "import pandas as pd\n",
    "import numpy as np \n",
    "import torch\n",
    "from torch.utils.data import Dataset\n",
    "from PIL import Image\n",
    "from transformers import TrOCRProcessor\n",
    "from torch.utils.data import DataLoader\n",
    "from tqdm.notebook import tqdm\n",
    "from transformers import VisionEncoderDecoderModel\n",
    "import torch\n",
    "from evaluate import load\n",
    "import logging\n",
    "import matplotlib.pyplot as plt \n",
    "# Set logging level for transformers to ERROR (or CRITICAL to suppress more)\n",
    "logging.getLogger(\"transformers\").setLevel(logging.ERROR)\n"
   ]
  },
  {
   "cell_type": "code",
   "execution_count": 2,
   "metadata": {},
   "outputs": [
    {
     "name": "stdout",
     "output_type": "stream",
     "text": [
      "Number of parameters: 61596672\n"
     ]
    }
   ],
   "source": [
    "model = VisionEncoderDecoderModel.from_pretrained(f\"microsoft/trocr-small-handwritten\")\n",
    "num_params = sum(p.numel() for p in model.parameters())\n",
    "print(f\"Number of parameters: {num_params}\")"
   ]
  },
  {
   "cell_type": "code",
   "execution_count": 3,
   "metadata": {},
   "outputs": [],
   "source": [
    "class TrOCRDataset(Dataset):\n",
    "    def __init__(self, root_dir, df, processor, max_target_length=128):\n",
    "        self.root_dir = root_dir\n",
    "        self.df = df\n",
    "        self.processor = processor\n",
    "        self.max_target_length = max_target_length\n",
    "\n",
    "    def __len__(self):\n",
    "        return len(self.df)\n",
    "\n",
    "    def __getitem__(self, idx):\n",
    "        # get file name + text \n",
    "        file_name = self.df['file_name'][idx]\n",
    "        text = self.df['text'][idx]\n",
    "        # some file names end with jp instead of jpg, the two lines below fix this\n",
    "        if file_name.endswith('jp'):\n",
    "          file_name = file_name + 'g'\n",
    "        # prepare image (i.e. resize + normalize)\n",
    "        image = Image.open(self.root_dir + file_name).convert(\"RGB\")\n",
    "        pixel_values = self.processor(image, return_tensors=\"pt\").pixel_values\n",
    "        # add labels (input_ids) by encoding the text\n",
    "        labels = self.processor.tokenizer(text, \n",
    "                                          padding=\"max_length\", \n",
    "                                          max_length=self.max_target_length).input_ids\n",
    "        # important: make sure that PAD tokens are ignored by the loss function\n",
    "        labels = [label if label != self.processor.tokenizer.pad_token_id else -100 for label in labels]\n",
    "\n",
    "        encoding = {\"pixel_values\": pixel_values.squeeze(), \"labels\": torch.tensor(labels)}\n",
    "        return encoding\n",
    "    \n",
    "    \n"
   ]
  },
  {
   "cell_type": "code",
   "execution_count": 4,
   "metadata": {},
   "outputs": [],
   "source": [
    "def evaluate(model_path,processor_path, dataset_path):\n",
    "    \n",
    "    df = pd.DataFrame(np.load(dataset_path)) \n",
    "    df.rename(columns={0: \"file_name\", 1: \"text\"}, inplace=True)\n",
    "    processor = TrOCRProcessor.from_pretrained(processor_path, quiet=True)\n",
    "    test_dataset = TrOCRDataset(root_dir='',df=df,processor=processor)\n",
    "\n",
    "    test_dataloader = DataLoader(test_dataset, batch_size=8)\n",
    "    \n",
    "    device = torch.device(\"mps\" if torch.backends.mps.is_available() else \"cpu\")\n",
    "    # device = \"mps\"\n",
    "    model = VisionEncoderDecoderModel.from_pretrained(model_path)\n",
    "    model = model.to(device)\n",
    "    \n",
    "    cer = load(\"cer\")\n",
    "    wer = load(\"wer\") \n",
    "    print(\"Running evaluation...\")\n",
    "\n",
    "    for batch in test_dataloader:\n",
    "        # predict using generate\n",
    "        pixel_values = batch[\"pixel_values\"].to(device)\n",
    "        outputs = model.generate(pixel_values)\n",
    "\n",
    "        # decode\n",
    "        pred_str = processor.batch_decode(outputs, skip_special_tokens=True)\n",
    "        labels = batch[\"labels\"]\n",
    "        labels[labels == -100] = processor.tokenizer.pad_token_id\n",
    "        label_str = processor.batch_decode(labels, skip_special_tokens=True)\n",
    "\n",
    "        \n",
    "        # add batch to metric\n",
    "        cer.add_batch(predictions=pred_str, references=label_str)\n",
    "        wer.add_batch(predictions=pred_str, references=label_str) \n",
    "    \n",
    "    \n",
    "    return {\"cer\": cer.compute(), \"wer\": wer.compute()} "
   ]
  },
  {
   "cell_type": "code",
   "execution_count": null,
   "metadata": {},
   "outputs": [
    {
     "name": "stdout",
     "output_type": "stream",
     "text": [
      "Running evaluation...\n",
      "Running evaluation...\n",
      "Epoch 1 - Val CER: 0.3571221351900203, Val WER: 0.5517241379310345\n",
      "Epoch 1 - Test CER: 0.7466266866566716, Test WER: 0.8785425101214575\n",
      "Running evaluation...\n",
      "Running evaluation...\n",
      "Epoch 2 - Val CER: 0.24949231215549753, Val WER: 0.4288240495137047\n",
      "Epoch 2 - Test CER: 0.4782608695652174, Test WER: 0.6558704453441295\n",
      "Running evaluation...\n",
      "Running evaluation...\n",
      "Epoch 3 - Val CER: 0.19727299100667248, Val WER: 0.38461538461538464\n",
      "Epoch 3 - Test CER: 0.39730134932533734, Test WER: 0.6032388663967612\n",
      "Running evaluation...\n",
      "Running evaluation...\n",
      "Epoch 4 - Val CER: 0.1560777487670438, Val WER: 0.3147656940760389\n",
      "Epoch 4 - Test CER: 0.32533733133433285, Test WER: 0.5141700404858299\n",
      "Running evaluation...\n",
      "Running evaluation...\n",
      "Epoch 5 - Val CER: 0.12097476066144473, Val WER: 0.2519893899204244\n",
      "Epoch 5 - Test CER: 0.20839580209895053, Test WER: 0.3967611336032389\n",
      "Running evaluation...\n",
      "Running evaluation...\n",
      "Epoch 6 - Val CER: 0.14012184508268058, Val WER: 0.29973474801061006\n",
      "Epoch 6 - Test CER: 0.2563718140929535, Test WER: 0.4251012145748988\n",
      "Running evaluation...\n",
      "Running evaluation...\n",
      "Epoch 7 - Val CER: 0.12358572671888599, Val WER: 0.268788682581786\n",
      "Epoch 7 - Test CER: 0.22788605697151423, Test WER: 0.4331983805668016\n",
      "Running evaluation...\n",
      "Running evaluation...\n",
      "Epoch 8 - Val CER: 0.1174934725848564, Val WER: 0.2572944297082228\n",
      "Epoch 8 - Test CER: 0.19490254872563717, Test WER: 0.3319838056680162\n",
      "Running evaluation...\n",
      "Running evaluation...\n",
      "Epoch 9 - Val CER: 0.11633304322599362, Val WER: 0.2519893899204244\n",
      "Epoch 9 - Test CER: 0.24887556221889057, Test WER: 0.41700404858299595\n",
      "Running evaluation...\n",
      "Running evaluation...\n",
      "Epoch 10 - Val CER: 0.1061792863359443, Val WER: 0.2396109637488948\n",
      "Epoch 10 - Test CER: 0.17391304347826086, Test WER: 0.32388663967611336\n",
      "Running evaluation...\n",
      "Running evaluation...\n",
      "Epoch 11 - Val CER: 0.10443864229765012, Val WER: 0.21927497789566755\n",
      "Epoch 11 - Test CER: 0.18140929535232383, Test WER: 0.3481781376518219\n",
      "Running evaluation...\n",
      "Running evaluation...\n"
     ]
    }
   ],
   "source": [
    "max_epochs = 15\n",
    "test_metrics_list = []\n",
    "val_metrics_list = []\n",
    "\n",
    "for i in range(1,max_epochs+1):\n",
    "    \n",
    "    test_metrics = evaluate(f\"results/pretrained/small_epochs={i}_fulldata\", \n",
    "                        \"microsoft/trocr-small-handwritten\", \n",
    "                        \"data/testset.npy\")\n",
    "    \n",
    "    val_metrics = evaluate(f\"results/pretrained/small_epochs={i}_fulldata\",\n",
    "                          \"microsoft/trocr-small-handwritten\",\n",
    "                          \"data/valset.npy\")\n",
    "    test_metrics_list.append(test_metrics)\n",
    "    val_metrics_list.append(val_metrics)\n",
    "    print(f\"Epoch {i} - Val CER: {val_metrics['cer']}, Val WER: {val_metrics['wer']}\") \n",
    "    print(f\"Epoch {i} - Test CER: {test_metrics['cer']}, Test WER: {test_metrics['wer']}\")\n",
    "    \n",
    "    "
   ]
  },
  {
   "cell_type": "code",
   "execution_count": 9,
   "metadata": {},
   "outputs": [
    {
     "data": {
      "text/plain": [
       "<matplotlib.legend.Legend at 0x4406a4a70>"
      ]
     },
     "execution_count": 9,
     "metadata": {},
     "output_type": "execute_result"
    },
    {
     "data": {
      "image/png": "[encoded data removed]",
      "text/plain": [
       "<Figure size 640x480 with 1 Axes>"
      ]
     },
     "metadata": {},
     "output_type": "display_data"
    }
   ],
   "source": [
    "plt.plot(range(1,max_epochs+1), test_cers, label=\"Test CER\")\n",
    "plt.plot(range(1,max_epochs+1), val_cers, label=\"Val CER\")\n",
    "# name the x-axis\n",
    "plt.xlabel(\"Epochs\")\n",
    "# name the y-axis\n",
    "plt.ylabel(\"CER\")\n",
    "plt.legend()"
   ]
  },
  {
   "cell_type": "code",
   "execution_count": null,
   "metadata": {},
   "outputs": [],
   "source": []
  }
 ],
 "metadata": {
  "kernelspec": {
   "display_name": "cs433-sofia",
   "language": "python",
   "name": "python3"
  },
  "language_info": {
   "codemirror_mode": {
    "name": "ipython",
    "version": 3
   },
   "file_extension": ".py",
   "mimetype": "text/x-python",
   "name": "python",
   "nbconvert_exporter": "python",
   "pygments_lexer": "ipython3",
   "version": "3.12.7"
  }
 },
 "nbformat": 4,
 "nbformat_minor": 2
}
