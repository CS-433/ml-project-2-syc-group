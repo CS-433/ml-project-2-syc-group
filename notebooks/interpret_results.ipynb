{
 "cells": [
  {
   "cell_type": "code",
   "execution_count": 1,
   "metadata": {},
   "outputs": [],
   "source": [
    "from src.inference import evaluate_model"
   ]
  },
  {
   "cell_type": "code",
   "execution_count": 2,
   "metadata": {},
   "outputs": [],
   "source": [
    "\n",
    "def interpret(model_path):\n",
    "    cer_val, wer_val = evaluate_model(\n",
    "    model_path=model_path, \n",
    "    datapath= model_path + '/val.csv' \n",
    "    )\n",
    "    cer_test, wer_test = evaluate_model(\n",
    "    model_path=model_path,\n",
    "    datapath='data/testset.npy'\n",
    "    )\n",
    "    print(f\"Validation CER: {cer_val}, Validation WER: {wer_val}\")\n",
    "    print(f\"Test CER: {cer_test}, Test WER: {wer_test}\")\n",
    "    \n",
    "    \n"
   ]
  },
  {
   "cell_type": "code",
   "execution_count": 3,
   "metadata": {},
   "outputs": [
    {
     "name": "stderr",
     "output_type": "stream",
     "text": [
      "100%|██████████| 1097/1097 [00:12<00:00, 84.51it/s]\n",
      "100%|██████████| 247/247 [00:02<00:00, 90.75it/s]"
     ]
    },
    {
     "name": "stdout",
     "output_type": "stream",
     "text": [
      "Validation CER: 0.1013065937405044, Validation WER: 0.21330902461257975\n",
      "Test CER: 0.20850202429149794, Test WER: 0.3967611336032389\n"
     ]
    },
    {
     "name": "stderr",
     "output_type": "stream",
     "text": [
      "\n"
     ]
    }
   ],
   "source": [
    "interpret('results/htr_net_5k_data')\n"
   ]
  },
  {
   "cell_type": "code",
   "execution_count": 4,
   "metadata": {},
   "outputs": [
    {
     "name": "stderr",
     "output_type": "stream",
     "text": [
      "100%|██████████| 900/900 [00:10<00:00, 81.91it/s]\n",
      "100%|██████████| 247/247 [00:02<00:00, 90.75it/s]"
     ]
    },
    {
     "name": "stdout",
     "output_type": "stream",
     "text": [
      "Validation CER: 0.15200000000000002, Validation WER: 0.29\n",
      "Test CER: 0.3600539811066127, Test WER: 0.6072874493927125\n"
     ]
    },
    {
     "name": "stderr",
     "output_type": "stream",
     "text": [
      "\n"
     ]
    }
   ],
   "source": [
    "interpret('results/htr_net_no_custom_new_split')"
   ]
  },
  {
   "cell_type": "code",
   "execution_count": 5,
   "metadata": {},
   "outputs": [
    {
     "name": "stderr",
     "output_type": "stream",
     "text": [
      "100%|██████████| 1055/1055 [00:06<00:00, 156.30it/s]\n",
      "100%|██████████| 247/247 [00:01<00:00, 185.20it/s]"
     ]
    },
    {
     "name": "stdout",
     "output_type": "stream",
     "text": [
      "Validation CER: 0.10475513428120062, Validation WER: 0.22843601895734597\n",
      "Test CER: 0.2012145748987854, Test WER: 0.3724696356275304\n"
     ]
    },
    {
     "name": "stderr",
     "output_type": "stream",
     "text": [
      "\n"
     ]
    }
   ],
   "source": [
    "interpret('results/cnn_bilstm_entire_dataset')\n"
   ]
  },
  {
   "cell_type": "code",
   "execution_count": null,
   "metadata": {},
   "outputs": [],
   "source": []
  }
 ],
 "metadata": {
  "kernelspec": {
   "display_name": "cs433-sofia",
   "language": "python",
   "name": "python3"
  },
  "language_info": {
   "codemirror_mode": {
    "name": "ipython",
    "version": 3
   },
   "file_extension": ".py",
   "mimetype": "text/x-python",
   "name": "python",
   "nbconvert_exporter": "python",
   "pygments_lexer": "ipython3",
   "version": "3.12.7"
  }
 },
 "nbformat": 4,
 "nbformat_minor": 2
}
