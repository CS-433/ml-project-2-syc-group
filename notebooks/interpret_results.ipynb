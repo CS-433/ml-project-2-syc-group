{
 "cells": [
  {
   "cell_type": "code",
   "execution_count": 8,
   "metadata": {},
   "outputs": [],
   "source": [
    "from src.inference import evaluate_model"
   ]
  },
  {
   "cell_type": "code",
   "execution_count": 53,
   "metadata": {},
   "outputs": [],
   "source": [
    "\n",
    "def interpret(model_path):\n",
    "    cer_val, wer_val = evaluate_model(\n",
    "    model_path=model_path, \n",
    "    datapath= model_path + '/val.csv' \n",
    "    )\n",
    "    cer_test, wer_test = evaluate_model(\n",
    "    model_path=model_path,\n",
    "    datapath='data/testset.npy'\n",
    "    )\n",
    "    print(\"\\t\\tCER\\t\\tWER\")\n",
    "    #round up to 4 decimal places \n",
    "    cer_val = round(cer_val, 4)\n",
    "    wer_val = round(wer_val, 4)\n",
    "    cer_test = round(cer_test, 4)\n",
    "    wer_test = round(wer_test, 4)\n",
    "    \n",
    "    print(f\"Validation\\t{cer_val}\\t\\t{wer_val}\")\n",
    "    print(f\"Test\\t\\t{cer_test}\\t\\t{wer_test}\")\n",
    "    \n",
    "    return (cer_val, wer_val, cer_test, wer_test)"
   ]
  },
  {
   "cell_type": "markdown",
   "metadata": {},
   "source": [
    "### HTR NET  without the custom dataset"
   ]
  },
  {
   "cell_type": "code",
   "execution_count": 54,
   "metadata": {},
   "outputs": [
    {
     "name": "stderr",
     "output_type": "stream",
     "text": [
      "100%|██████████| 900/900 [00:10<00:00, 87.59it/s]\n",
      "100%|██████████| 247/247 [00:02<00:00, 99.47it/s] "
     ]
    },
    {
     "name": "stdout",
     "output_type": "stream",
     "text": [
      "\t\tCER\t\tWER\n",
      "Validation\t0.152\t\t0.29\n",
      "Test\t\t0.3601\t\t0.6073\n"
     ]
    },
    {
     "name": "stderr",
     "output_type": "stream",
     "text": [
      "\n"
     ]
    }
   ],
   "source": [
    "htr_net_no_cus = interpret('results/htr_net_no_custom_new_split')\n"
   ]
  },
  {
   "cell_type": "markdown",
   "metadata": {},
   "source": [
    "### HTR NET with the custom dataset"
   ]
  },
  {
   "cell_type": "code",
   "execution_count": 58,
   "metadata": {},
   "outputs": [
    {
     "name": "stderr",
     "output_type": "stream",
     "text": [
      "100%|██████████| 1128/1128 [00:12<00:00, 90.37it/s]\n",
      "100%|██████████| 247/247 [00:02<00:00, 98.91it/s]"
     ]
    },
    {
     "name": "stdout",
     "output_type": "stream",
     "text": [
      "\t\tCER\t\tWER\n",
      "Validation\t0.091\t\t0.2004\n",
      "Test\t\t0.2021\t\t0.3846\n"
     ]
    },
    {
     "name": "stderr",
     "output_type": "stream",
     "text": [
      "\n"
     ]
    }
   ],
   "source": [
    "htr_net_cus = interpret('results/htr_full_data')"
   ]
  },
  {
   "cell_type": "markdown",
   "metadata": {},
   "source": [
    "### CNN-BILSTM from mltu WITHOUT custom dataset"
   ]
  },
  {
   "cell_type": "code",
   "execution_count": 63,
   "metadata": {},
   "outputs": [
    {
     "name": "stderr",
     "output_type": "stream",
     "text": [
      "  0%|          | 0/1552 [00:00<?, ?it/s]"
     ]
    },
    {
     "name": "stderr",
     "output_type": "stream",
     "text": [
      "100%|██████████| 1552/1552 [00:09<00:00, 161.04it/s]\n",
      "100%|██████████| 247/247 [00:01<00:00, 186.55it/s]"
     ]
    },
    {
     "name": "stdout",
     "output_type": "stream",
     "text": [
      "\t\tCER\t\tWER\n",
      "Validation\t0.1004\t\t0.2313\n",
      "Test\t\t0.2399\t\t0.413\n"
     ]
    },
    {
     "name": "stderr",
     "output_type": "stream",
     "text": [
      "\n"
     ]
    }
   ],
   "source": [
    "cnn_bilstm_no_cust = interpret('results/cnn_bilstm_mltu1')\n"
   ]
  },
  {
   "cell_type": "markdown",
   "metadata": {},
   "source": [
    "### CNN-BILSTM from mltu WITH custom dataset"
   ]
  },
  {
   "cell_type": "code",
   "execution_count": 64,
   "metadata": {},
   "outputs": [
    {
     "name": "stderr",
     "output_type": "stream",
     "text": [
      "100%|██████████| 1128/1128 [00:06<00:00, 169.75it/s]\n",
      "100%|██████████| 247/247 [00:01<00:00, 184.24it/s]"
     ]
    },
    {
     "name": "stdout",
     "output_type": "stream",
     "text": [
      "\t\tCER\t\tWER\n",
      "Validation\t0.0948\t\t0.195\n",
      "Test\t\t0.1761\t\t0.3279\n"
     ]
    },
    {
     "name": "stderr",
     "output_type": "stream",
     "text": [
      "\n"
     ]
    }
   ],
   "source": [
    "cnn_bilstm_cust = interpret('results/cnn_bilstm_mltu_all_data')"
   ]
  },
  {
   "cell_type": "markdown",
   "metadata": {},
   "source": [
    "### Summary"
   ]
  },
  {
   "cell_type": "code",
   "execution_count": 71,
   "metadata": {},
   "outputs": [
    {
     "name": "stdout",
     "output_type": "stream",
     "text": [
      "Custom dataset \t\t WITHOUT \t\t WITH\n",
      "\t\t\t Val \t Test \t\t Val \t Test\n",
      "HTR-Net \t\t 0.152 \t 0.3601 \t 0.091 \t 0.2021\n",
      "CNN-BiLSTM-MLTU  \t0.1004 \t 0.2399 \t 0.0948  0.1761\n"
     ]
    }
   ],
   "source": [
    "print(\"Custom dataset \\t\\t WITHOUT \\t\\t WITH\")\n",
    "print(\"\\t\\t\\t Val \\t Test \\t\\t Val \\t Test\") \n",
    "print(f\"HTR-Net \\t\\t {htr_net_no_cus[0]} \\t {htr_net_no_cus[2]} \\t {htr_net_cus[0]} \\t {htr_net_cus[2]}\")\n",
    "print(f\"CNN-BiLSTM-MLTU  \\t{cnn_bilstm_no_cust[0]} \\t {cnn_bilstm_no_cust[2]} \\t {cnn_bilstm_cust[0]}  {cnn_bilstm_cust[2]}\")\n"
   ]
  },
  {
   "cell_type": "code",
   "execution_count": null,
   "metadata": {},
   "outputs": [],
   "source": []
  }
 ],
 "metadata": {
  "kernelspec": {
   "display_name": "cs433-sofia",
   "language": "python",
   "name": "python3"
  },
  "language_info": {
   "codemirror_mode": {
    "name": "ipython",
    "version": 3
   },
   "file_extension": ".py",
   "mimetype": "text/x-python",
   "name": "python",
   "nbconvert_exporter": "python",
   "pygments_lexer": "ipython3",
   "version": "3.12.7"
  }
 },
 "nbformat": 4,
 "nbformat_minor": 2
}
